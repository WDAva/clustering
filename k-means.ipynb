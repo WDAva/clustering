{
 "cells": [
  {
   "cell_type": "markdown",
   "metadata": {},
   "source": [
    "# Machine Learning 1 - Algorithme K-Means\n",
    "\n",
    "Étant donné que l'esclavage c'est immoral, déléguons les tâches pénibles et répétitives aux ordinateurs, voulez-vous ? \n",
    "\n",
    "J'ai entrepri de classer mes 1000000 photos de pingouins car ça faisait fouilli sur le bureau de mon Windows98. J'ai donc décidé d'écrire un ptit programme pour le faire à ma place. Je me suis donc retrouvé à chercher \"Comment connaître le sexe d'un animal dans un fichier .jpeg en C#\" sur StackOverflow. Peu de résultats. Puis, une illumination : le Machine Learning ! La solution idéale pour ce genre de problèmes qui demandent un certain niveau d'abstraction des concepts de pingouins mâles, femelles, gorfous et autres manchots.\n",
    "\n",
    "Le Machine Learning peut se décomposer en 2 phases :\n",
    "* **La phase d'apprentissage ** : faire en sorte que la machine découvre les liens entre des données d'entrée et ce qu'on attend qu'elle produise. \n",
    "* **L'application de ces nouvelles connaissances** : on met la machine face à de nouvelles données d'entrée à partir desquelles on voudrait produire une sortie. \n",
    "\n",
    "Il existe plusieurs types d'apprentissage : supervisé ou non, par renforcement... Aujourd'hui on va faire du learning non supervisé ! Cela signifie que l'on ne possède pas la correction de l'exercice que l'on demande à la machine de faire. Cependant on est quand même capable de juger de la qualité de sa réponse.\n",
    "\n",
    "Un apprentissage non supervisé est adapté à des problèmes NP-Complet : des problèmes pour lesquels on a pas encore trouvé d'algorithme non-déterministe mais qui possède un certificat polynommial, pour parler crument. En gros des problèmes très coûteux à résoudre mais si une solution est trouvée, on peut vérifier qu'elle soit bonne relativement facilement.\n",
    "\n",
    "Le Machine Learning permet aujourd'hui de trouver des solutions à de tels problèmes sans garantir l'optimalité et en sachant que cette solution ne sera pas universelle (pour un problème donné) puisque fortement dépendante des données utilisées pour l'apprentissage.\n",
    "\n",
    "## Qu'est-ce que le clustering ?\n",
    "\n",
    "Il s'agit de regrouper des données en groupe au sein desquels toutes les données seront les plus similaires possible. Il s'agit donc d'un problème NP-Complet puisqu'aujourd'hui on ne sait pas trouver de tels groupes sans explorer toutes les possibilités possibles.\n",
    "\n",
    "C'est typiquement ce que je cherche à faire avec mes photos de pingouins.\n",
    "\n",
    "## K-Means dans tout ça ?\n",
    "\n",
    "K-Means est un algorithme de clustering. Il est très simple à comprendre et à implémenter. \n",
    "\n",
    "Où est le piège me direz-vous ? \n",
    "\n",
    "Hé bien vous devez avoir une idée du nombre de clusters qu'il va vous falloir, il s'agit du K de K-Means. En soit le nombre exact n'est pas à connaître à l'avance, mais vous devez quand même l'approximer en amont car quoiqu'il arrive, l'algorithme vous donnera K clusters.\n",
    "\n",
    "De plus, vos données devront être caractérisées par un vecteur numérique, le vecteur : $\\begin{pmatrix} bec jaune \\\\ plumes soyeuses \\\\ cri mélodique \\end{pmatrix}$ n'est pas valide, vous devez réfléchir à comment exprimer vos données avec des nombres, par exemple $\\begin{pmatrix} 0.8 \\\\ 0.27 \\\\ 5 \\end{pmatrix}$ où 0.8 représente l'intensité du jaune, 10 l'indice de soyosité et 5 la fréquence dominante après analyse du cri par transformée de Fourier. \n",
    "\n",
    "L'algorithme K-Means va aussi créer K nouvelles données (au début aléatoires) qui seront les centres de chaque clusters, calculés grâce à la moyenne de tous les points de leurs clusters respectifs, d'où le Means. \n",
    "\n",
    "## Un peu de terminologie\n",
    "\n",
    "* **une feature** : une caractéristique d'une donnée (l'intensité lumineuse, le BPM, le nombre de lettres, ...)\n",
    "* **une instance** : un vecteur contenant toutes les features d'une donnée.\n",
    "* **un centroid** : le centre d'un cluster, **On peut donc simplement définir un cluster par son centroid.**\n",
    "\n",
    "Pour cet article, nous utiliserons des instances aléatoires (sans rélle signification donc) de 2 features chacune afin de pouvoir les visualiser sur un graphique 2D par pur soucis pédagogique. Bien évidemment cet algo peut s'appliquer pour n'importe quel nombre de features et d'instances.\n",
    "\n",
    "## L'algo\n",
    "\n",
    "Il est tout simple, le voici :\n",
    "\n",
    "1. Choisir k centroids parmis les instances.\n",
    "2. Assigner chaque instance au centroid le plus proche (donc construction des clusters)\n",
    "4. Calcul des nouveaux centroids en faisant la moyenne des instances de son cluster  \n",
    "5. Si les centroids n'ont pas été modifiés pendant la dernière itération, on retourne ces centroids, sinon, aller à l'étape 2\n",
    "\n",
    "**ATTENTION** : le k choisi pour l'algorithme doit être inférieur aux nombre d'instances.\n",
    "\n",
    "## Le code\n",
    "\n",
    "Il nécessite d'être un minimum familier avec Python et Numpy, pas non plus besoin d'être expert. Si vous ne connaissez ni l'un, ni l'autre, sachez qu'ils sont sont très utilisés dans les domaines du Machine Learning et du Data Mining (mais pas que), donc penchez vous dessus, ça vaut le coup. "
   ]
  },
  {
   "cell_type": "code",
   "execution_count": 57,
   "metadata": {
    "collapsed": true
   },
   "outputs": [],
   "source": [
    "import numpy as np\n",
    "import matplotlib.pyplot as plt #Pour visualiser les données\n",
    "%matplotlib inline"
   ]
  },
  {
   "cell_type": "code",
   "execution_count": 64,
   "metadata": {
    "collapsed": true
   },
   "outputs": [],
   "source": [
    "#Initialisation de 200 instances possédant chacune 2 features de manière aléatoire\n",
    "n_instances = 200\n",
    "n_features = 2\n",
    "\n",
    "#Nos instances seront représentées par une matrice de taille (n_instances, n_features) \n",
    "instances = np.random.random((n_instances, n_features))\n",
    "\n",
    "#Nous cherchons à former 4 clusters\n",
    "k = 4"
   ]
  },
  {
   "cell_type": "code",
   "execution_count": 59,
   "metadata": {
    "collapsed": true
   },
   "outputs": [],
   "source": [
    "def find_cluster(instance, centroids): \n",
    "    #Retourne l'indice du centroid le plus proche\n",
    "    return np.argmin([np.linalg.norm(centroid - instance) for centroid in centroids])"
   ]
  },
  {
   "cell_type": "code",
   "execution_count": 60,
   "metadata": {
    "collapsed": true
   },
   "outputs": [],
   "source": [
    "def kmeans(k, instances, centroids=None):\n",
    "    \n",
    "    n_instances, n_features = instances.shape\n",
    "    \n",
    "    #Si jamais on souhaite relancer l'algo à partir de centroids pré-existant\n",
    "    #car on a ajouté de nouvelles données depuis la dernière fois que l'on a \n",
    "    #lancé l'algo par exemple, ou pour reprendre depuis un checkpoint ....\n",
    "    if centroids == None:\n",
    "        #Initialisation des centroids parmis les instances\n",
    "        centroids = np.array(instances[np.random.choice(n_instances, k)])\n",
    "    \n",
    "    #Historique des centroids\n",
    "    #utile si on veut voir l'évolution de l'algorithme\n",
    "    centroids_history = []\n",
    "    \n",
    "    #Tant que les centroids sont modifiés\n",
    "    modified = True\n",
    "    while modified:\n",
    "        #Ajout dans l'historique\n",
    "        centroids_history.append(centroids)\n",
    "        \n",
    "        #Construction pour des clusters pour cette itération\n",
    "        clusters = {i : [] for i in range(k)} \n",
    "        for instance in instances:\n",
    "            cluster = find_cluster(instance, centroids)\n",
    "            clusters[cluster].append(instance)\n",
    "        \n",
    "        #Calcul des nouveaux centroids\n",
    "        new_centroids = np.zeros(centroids.shape)\n",
    "        for i in range(k):\n",
    "            #Conversion des clusters en np.array\n",
    "            #Pas indispensable mais facilite l'utilisation\n",
    "            clusters[i] = np.array(clusters[i])\n",
    "            #Update\n",
    "            new_centroids[i] = np.mean(clusters[i], axis=0) \n",
    "        \n",
    "        if np.array_equal(new_centroids, centroids):\n",
    "            modified = False\n",
    "        \n",
    "        centroids = new_centroids\n",
    "    \n",
    "    #On retourne les centroids\n",
    "    #Les clusters sont facultatifs étant donné qu'on peut les reconstruire\n",
    "    #à partir des centroids, mais vu qu'on les a entre les mains, soyons généreux\n",
    "    return centroids, centroids_history, clusters"
   ]
  },
  {
   "cell_type": "code",
   "execution_count": 61,
   "metadata": {
    "collapsed": true
   },
   "outputs": [],
   "source": [
    "#Application de l'algo à nos instances aléatoires\n",
    "centroids, centroids_history, clusters = kmeans(k, instances)"
   ]
  },
  {
   "cell_type": "code",
   "execution_count": 62,
   "metadata": {},
   "outputs": [
    {
     "data": {
      "text/plain": [
       "<matplotlib.collections.PathCollection at 0x7fdfd72a3e48>"
      ]
     },
     "execution_count": 62,
     "metadata": {},
     "output_type": "execute_result"
    },
    {
     "data": {
      "image/png": "[encoded data removed]",
      "text/plain": [
       "<matplotlib.figure.Figure at 0x7fdfd6f1f198>"
      ]
     },
     "metadata": {},
     "output_type": "display_data"
    },
    {
     "data": {
      "image/png": "[encoded data removed]",
      "text/plain": [
       "<matplotlib.figure.Figure at 0x7fdfd6750eb8>"
      ]
     },
     "metadata": {},
     "output_type": "display_data"
    }
   ],
   "source": [
    "colors = ['b', 'g', 'r', 'c', 'm', 'y', 'k', 'w']\n",
    "\n",
    "#Plot des clusters à l'intialisation\n",
    "plt.figure()\n",
    "plt.title(\"Clusters à l'intialisation\")\n",
    "for instance in instances:\n",
    "    cluster = find_cluster(instance, centroids_history[0])\n",
    "    plt.scatter(instance[0], instance[1], color=colors[cluster], marker='+')\n",
    "plt.scatter(centroids_history[0][:, 0], centroids_history[0][:, 1], color='k')\n",
    "\n",
    "#Plot des clusters à la fin de l'agorithme k-means\n",
    "plt.figure()\n",
    "plt.title(\"Clusters finals\")\n",
    "for idx in range(k):\n",
    "    plt.scatter(clusters[idx][:, 0], clusters[idx][:, 1], color=colors[idx], marker='+')\n",
    "plt.scatter(centroids[:, 0], centroids[:, 1], color='k')"
   ]
  },
  {
   "cell_type": "code",
   "execution_count": 63,
   "metadata": {},
   "outputs": [
    {
     "name": "stdout",
     "output_type": "stream",
     "text": [
      "Instance :  [ 0.02078817  0.4792881 ]\n",
      "Cluster de l'instance : 2 , sa couleur est donc r\n"
     ]
    }
   ],
   "source": [
    "#Imaginons que l'on veuille connaître le cluster d'une nouvelle instance\n",
    "instance = np.random.random((n_features))\n",
    "print(\"Instance : \", instance)\n",
    "cluster = find_cluster(instance, centroids)\n",
    "\n",
    "print(\"Cluster de l'instance : %d , sa couleur est donc %s\" % (cluster, colors[cluster]))"
   ]
  },
  {
   "cell_type": "markdown",
   "metadata": {},
   "source": [
    "## Conclusion\n",
    "\n",
    "On voit bien une évolution des clusters et on est même capables d'attribuer un groupe à de nouvelles données. Quoi ? Vous êtes pas impressionnés ? Bon c'est vrai qu'on a utilisé des données aléatoires et donc vides de sens. Dans les prochains articles nous utiliserons des données bien concrètes (peut-être des musiques, peut-être des images), on va calculer les features relatives à ces données et même utiliser un Neural Network pour exploiter encore plus la puissance du Machine Learning.\n",
    "\n",
    "Stay Tuned !"
   ]
  }
 ],
 "metadata": {
  "kernelspec": {
   "display_name": "Python 3",
   "language": "python",
   "name": "python3"
  },
  "language_info": {
   "codemirror_mode": {
    "name": "ipython",
    "version": 3
   },
   "file_extension": ".py",
   "mimetype": "text/x-python",
   "name": "python",
   "nbconvert_exporter": "python",
   "pygments_lexer": "ipython3",
   "version": "3.6.4"
  }
 },
 "nbformat": 4,
 "nbformat_minor": 2
}
