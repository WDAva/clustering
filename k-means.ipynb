{
 "cells": [
  {
   "cell_type": "markdown",
   "metadata": {},
   "source": [
    "# Algorithme K-Means"
   ]
  },
  {
   "cell_type": "code",
   "execution_count": 21,
   "metadata": {},
   "outputs": [],
   "source": [
    "import numpy as np\n",
    "import matplotlib.pyplot as plt\n",
    "%matplotlib inline"
   ]
  },
  {
   "cell_type": "code",
   "execution_count": 88,
   "metadata": {},
   "outputs": [],
   "source": [
    "def find_cluster(instance, centroids): \n",
    "    return np.argmin([np.linalg.norm(centroid - instance) for centroid in centroids])\n",
    "\n",
    "def kmeans(k, instances):\n",
    "    \n",
    "    n_instances, n_features = instances.shape\n",
    "\n",
    "    centroids = np.array(instances[np.random.choice(n_instances, k)])\n",
    "    centroids_history = []\n",
    "    \n",
    "    modified = True\n",
    "    while modified:\n",
    "        centroids_history.append(centroids)\n",
    "        \n",
    "        clusters = {i : [] for i in range(k)} \n",
    "        \n",
    "        for instance in instances:\n",
    "            cluster = find_cluster(instance, centroids)\n",
    "            clusters[cluster].append(instance)\n",
    "        \n",
    "        new_centroids = np.zeros(centroids.shape)\n",
    "        for i in range(k):\n",
    "            clusters[i] = np.array(clusters[i])\n",
    "            new_centroids[i] = np.mean(clusters[i], axis=0) \n",
    "\n",
    "        if np.array_equal(new_centroids, centroids):\n",
    "            modified = False\n",
    "        \n",
    "        centroids = new_centroids\n",
    "    \n",
    "    return centroids, centroids_history, clusters"
   ]
  },
  {
   "cell_type": "code",
   "execution_count": 97,
   "metadata": {},
   "outputs": [
    {
     "data": {
      "text/plain": [
       "<matplotlib.collections.PathCollection at 0x7fad452c9198>"
      ]
     },
     "execution_count": 97,
     "metadata": {},
     "output_type": "execute_result"
    },
    {
     "data": {
      "image/png": "[encoded data removed]",
      "text/plain": [
       "<matplotlib.figure.Figure at 0x7fad452f4ac8>"
      ]
     },
     "metadata": {},
     "output_type": "display_data"
    }
   ],
   "source": [
    "#Initialisation de 200 instances possédant chacune 2 features de manière aléatoire\n",
    "n_instances = 200\n",
    "n_features = 2\n",
    "instances = np.random.random((n_instances, n_features))\n",
    "\n",
    "#Nous cherchons à former 4 clusters\n",
    "k = 4\n",
    "\n",
    "colors = ['b', 'g', 'r', 'c', 'm', 'y', 'k', 'w']\n",
    "\n",
    "centroids, centroids_history, clusters = kmeans(k, instances)\n",
    "for cluster_idx in range(k):\n",
    "    plt.scatter(clusters[cluster_idx][:, 0], clusters[cluster_idx][:, 1], color=colors[cluster_idx])\n",
    "    \n",
    "plt.scatter(centroids[:, 0], centroids[:, 1], color='k')"
   ]
  }
 ],
 "metadata": {
  "kernelspec": {
   "display_name": "Python 3",
   "language": "python",
   "name": "python3"
  },
  "language_info": {
   "codemirror_mode": {
    "name": "ipython",
    "version": 3
   },
   "file_extension": ".py",
   "mimetype": "text/x-python",
   "name": "python",
   "nbconvert_exporter": "python",
   "pygments_lexer": "ipython3",
   "version": "3.6.4"
  }
 },
 "nbformat": 4,
 "nbformat_minor": 2
}
